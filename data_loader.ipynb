{
 "cells": [
  {
   "cell_type": "code",
   "execution_count": 1,
   "id": "b26f97d7",
   "metadata": {},
   "outputs": [],
   "source": [
    "import os\n",
    "import pandas as pd\n",
    "import numpy as np"
   ]
  },
  {
   "cell_type": "code",
   "execution_count": 2,
   "id": "6e91a007",
   "metadata": {},
   "outputs": [],
   "source": [
    "class TripsLoader:\n",
    "    BASEPATH = \"data/\"\n",
    "    ORIGIN_FILENAME = \"timeseries_o.csv\"\n",
    "    DEST_FILENAME = \"timeseries_d.csv\"\n",
    "    \n",
    "    def __init__(self, verbose=True):\n",
    "        self.routesLoader = RoutesLoader() # Instanciamos objeto de la clase RoutesLoader()\n",
    "        \n",
    "        #Llamamos como propiedad del objeto al dataframe timeseries_o.csv\n",
    "        self.timeseries_o = pd.read_csv(self.BASEPATH + self.ORIGIN_FILENAME)\n",
    "        self.timeseries_o[\"ds\"] = pd.to_datetime(self.timeseries_o[\"ds\"])\n",
    "        self.timeseries_o = self.timeseries_o.set_index(\"ds\")\n",
    "        self.timeseries_o = self.timeseries_o.astype(np.float32)\n",
    "\n",
    "        #Llamamos como propiedad del objeto al dataframe timeseries_d.csv\n",
    "        self.timeseries_d = pd.read_csv(self.BASEPATH + self.DEST_FILENAME)\n",
    "        self.timeseries_d[\"ds\"] = pd.to_datetime(self.timeseries_d[\"ds\"])\n",
    "        self.timeseries_d = self.timeseries_d.set_index(\"ds\")\n",
    "        self.timeseries_d = self.timeseries_d.astype(np.float32)    "
   ]
  },
  {
   "cell_type": "code",
   "execution_count": 3,
   "id": "b2c2d501",
   "metadata": {},
   "outputs": [],
   "source": [
    "class PassengersDataLoader:\n",
    "    BASEPATH = \"data/\"\n",
    "    RENFE_MONTHLY_DATA_PATH = BASEPATH + \"renfe_monthly_data.csv\"\n",
    "    RENFE_USERS_BYSTOP = BASEPATH + \"up_down_bystop.csv\"\n",
    "    METRO_DAILY_DATA = BASEPATH + 'metro_daily_data.csv'\n",
    "    METRO_USERS_BYSTOP = BASEPATH + 'metro_up_down_bystop.csv'\n",
    "    \n",
    "    def __init__(self):\n",
    "        # Llamamos como propiedad del objeto al dataframe renfe_monthly_data.csv y metro_daily_data.csv\n",
    "        self.renfe_monthly_data = PassengersDataLoader.load_renfe_monthly_data(PassengersDataLoader.RENFE_MONTHLY_DATA_PATH)\n",
    "        self.metro_daily_data = PassengersDataLoader.load_metro_daily_data(PassengersDataLoader.METRO_DAILY_DATA)        \n",
    "        \n",
    "        # Llamamos como propiedad del objeto al dataframe up_down_bystop.csv y metro_up_down_bystop.csv\n",
    "        self.renfe_users_bystop = PassengersDataLoader.load_renfe_users_bystop(PassengersDataLoader.RENFE_USERS_BYSTOP)\n",
    "        self.metro_users_bystop = PassengersDataLoader.load_metro_users_bystop(PassengersDataLoader.METRO_USERS_BYSTOP)\n",
    "        \n",
    "    def update_renfe_timeseries(self,timeseries):\n",
    "        self.renfe_monthly_data = self.renfe_monthly_data.append(timeseries)\n",
    "        self.renfe_monthly_data = self.renfe_monthly_data[~self.renfe_monthly_data.index.duplicated(keep='last')].sort_index()\n",
    "\n",
    "\n",
    "    def update_metro_timeseries(self,timeseries):\n",
    "        self.metro_daily_data = self.metro_daily_data.append(timeseries)\n",
    "        self.metro_daily_data = self.metro_daily_data[~self.metro_daily_data.index.duplicated(keep='last')].sort_index()\n",
    "        \n",
    "    @staticmethod\n",
    "    def load_renfe_monthly_data(path,start_month = \"20130101\"):\n",
    "        data = pd.read_csv(path, names = [\"users\"])\n",
    "        period = pd.period_range(start_month, periods = len(data), freq = \"M\")\n",
    "        data[\"ds\"] = period\n",
    "        data = data.set_index(\"ds\")\n",
    "        return data\n",
    "    \n",
    "    @staticmethod\n",
    "    def load_metro_daily_data(path):\n",
    "        return pd.read_csv(path,\n",
    "                           delimiter = ';',\n",
    "                           converters = {\n",
    "                               'ds': lambda x: pd.to_datetime(x, dayfirst=True)\n",
    "                           },\n",
    "                           index_col = 'ds')\n",
    "\n",
    "    @staticmethod\n",
    "    def load_renfe_users_bystop(path):\n",
    "        return pd.read_csv(path)\n",
    "\n",
    "    @staticmethod\n",
    "    def load_metro_users_bystop(path):\n",
    "        return  pd.read_csv(path)"
   ]
  },
  {
   "cell_type": "code",
   "execution_count": 4,
   "id": "4726e7dc",
   "metadata": {},
   "outputs": [],
   "source": [
    "class RoutesLoader: \n",
    "    BASEPATH = \"data/\"\n",
    "    ROUTES_FILENAME = \"routes.csv\"\n",
    "    \n",
    "    def __init__(self):\n",
    "        # Llamamos como propiedad del objeto al dataframe routes.csv\n",
    "        self.routes = pd.read_csv(RoutesLoader.BASEPATH\n",
    "                                  + RoutesLoader.ROUTES_FILENAME,\n",
    "                                  dtype={\"stop_district\":str})\n",
    "        \n",
    "        # Propiedad del objeto que contiene una lista de los distritos donde hay una parada de cercanías o de metro\n",
    "        self.districts = self.routes.stop_district.unique()\n",
    "        \n",
    "        # Propiedad del objeto que contiene la lista ['cercanias' 'metro' 'emt'] (dtype=objeto) \n",
    "        self.services = self.routes.service.unique()\n",
    "        \n",
    "        # Contiene un diccionario con las lineas de cada servicio {'cercanias': array(['C1', 'C10', 'C2', 'C3', 'C4', 'C5', 'C8', 'C9']),\n",
    "        self.lines = {}\n",
    "        for service in self.services:\n",
    "            self.lines[service] = self.routes[self.routes.service == service].line.unique()"
   ]
  },
  {
   "cell_type": "code",
   "execution_count": 5,
   "id": "4ddaaaed",
   "metadata": {},
   "outputs": [],
   "source": [
    "# prueba = RoutesLoader()\n",
    "# prueba2 = prueba.lines\n",
    "# print(prueba2)"
   ]
  },
  {
   "cell_type": "code",
   "execution_count": 6,
   "id": "a2ae1f1a",
   "metadata": {},
   "outputs": [],
   "source": [
    "# tripsloader = TripsLoader(verbose = True)\n",
    "# routes = tripsloader.routesLoader.routes # tripsloader es el objeto, routesLoader es la propiedad de ese objeto que está compuesto por la clase \"RoutesLoader\" y routes es la propiedad de \"RoutesLoader\""
   ]
  }
 ],
 "metadata": {
  "kernelspec": {
   "display_name": "Python 3 (ipykernel)",
   "language": "python",
   "name": "python3"
  },
  "language_info": {
   "codemirror_mode": {
    "name": "ipython",
    "version": 3
   },
   "file_extension": ".py",
   "mimetype": "text/x-python",
   "name": "python",
   "nbconvert_exporter": "python",
   "pygments_lexer": "ipython3",
   "version": "3.9.7"
  }
 },
 "nbformat": 4,
 "nbformat_minor": 5
}

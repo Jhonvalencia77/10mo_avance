{
 "cells": [
  {
   "cell_type": "markdown",
   "id": "b9ab7112",
   "metadata": {},
   "source": [
    "### En este notebook se debe de utilizar los archivos data_loader y processor para realizar la comparación y la estimación del número de entradas a la estación chamartín. "
   ]
  },
  {
   "cell_type": "code",
   "execution_count": 2,
   "id": "c677dad8",
   "metadata": {},
   "outputs": [],
   "source": [
    "import numpy as np\n",
    "import seaborn as sb\n",
    "import pandas as pd\n",
    "import matplotlib.pyplot as plt\n",
    "from processor import * #Importamos todas las clases del archivo processor"
   ]
  },
  {
   "cell_type": "markdown",
   "id": "f7266e69",
   "metadata": {},
   "source": [
    "# Estimación de las entradas a la estación Chamartín a partir de las predicciones del trayecto \"Chamartín-Centro\""
   ]
  },
  {
   "cell_type": "markdown",
   "id": "96082a4e",
   "metadata": {},
   "source": [
    "## Read - Archivos con las predicciones obtenidas"
   ]
  },
  {
   "cell_type": "code",
   "execution_count": 3,
   "id": "91fd5131",
   "metadata": {},
   "outputs": [],
   "source": [
    "predictions1_0_5 = pd.read_csv(\"/home/jonathan/tesis/10mo_avance/Evaluación/predictions1_0_5.csv\", sep=',',index_col=0, parse_dates=True)\n",
    "predictions2_0_5 = pd.read_csv(\"/home/jonathan/tesis/10mo_avance/Evaluación/predictions2_0_5.csv\", sep=',',index_col=0, parse_dates=True)\n",
    "predictions1_6_11 = pd.read_csv(\"/home/jonathan/tesis/10mo_avance/Evaluación/predictions1_6_11.csv\", sep=',',index_col=0, parse_dates=True)\n",
    "predictions2_6_11 = pd.read_csv(\"/home/jonathan/tesis/10mo_avance/Evaluación/predictions2_6_11.csv\", sep=',',index_col=0, parse_dates=True)\n",
    "predictions1_12_17 = pd.read_csv(\"/home/jonathan/tesis/10mo_avance/Evaluación/predictions1_12_17.csv\", sep=',',index_col=0, parse_dates=True)\n",
    "predictions2_12_17 = pd.read_csv(\"/home/jonathan/tesis/10mo_avance/Evaluación/predictions2_12_17.csv\", sep=',',index_col=0, parse_dates=True)\n",
    "predictions1_18_23 = pd.read_csv(\"/home/jonathan/tesis/10mo_avance/Evaluación/predictions1_18_23.csv\", sep=',',index_col=0, parse_dates=True)\n",
    "predictions2_18_23 = pd.read_csv(\"/home/jonathan/tesis/10mo_avance/Evaluación/predictions2_18_23.csv\", sep=',',index_col=0, parse_dates=True)\n",
    "\n",
    "predictions1 = pd.concat([predictions1_0_5, predictions1_6_11, predictions1_12_17, predictions1_18_23])\n",
    "predictions2 = pd.concat([predictions2_0_5, predictions2_6_11, predictions2_12_17, predictions2_18_23])"
   ]
  },
  {
   "cell_type": "code",
   "execution_count": 12,
   "id": "8e3987b9",
   "metadata": {},
   "outputs": [],
   "source": []
  },
  {
   "cell_type": "code",
   "execution_count": null,
   "id": "c38ac8af",
   "metadata": {},
   "outputs": [],
   "source": []
  }
 ],
 "metadata": {
  "kernelspec": {
   "display_name": "Python 3 (ipykernel)",
   "language": "python",
   "name": "python3"
  },
  "language_info": {
   "codemirror_mode": {
    "name": "ipython",
    "version": 3
   },
   "file_extension": ".py",
   "mimetype": "text/x-python",
   "name": "python",
   "nbconvert_exporter": "python",
   "pygments_lexer": "ipython3",
   "version": "3.9.7"
  }
 },
 "nbformat": 4,
 "nbformat_minor": 5
}

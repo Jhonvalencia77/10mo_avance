{
 "cells": [
  {
   "cell_type": "markdown",
   "id": "b9ab7112",
   "metadata": {},
   "source": [
    "### En este notebook se debe de utilizar los archivos data_loader y processor para realizar la comparación y la estimación del número de entradas a la estación chamartín. "
   ]
  },
  {
   "cell_type": "code",
   "execution_count": 1,
   "id": "c677dad8",
   "metadata": {},
   "outputs": [],
   "source": [
    "import numpy as np\n",
    "import seaborn as sb\n",
    "import pandas as pd\n",
    "import matplotlib.pyplot as plt\n",
    "from processor2 import * #Importamos todas las clases del archivo processor"
   ]
  },
  {
   "cell_type": "code",
   "execution_count": 2,
   "id": "0144eb18",
   "metadata": {},
   "outputs": [],
   "source": [
    "# #Verificamos con el df timeseries_o\n",
    "# Period_Nn = pd.read_csv(\"/home/jonathan/tesis/AppDaniel/TFG_CODE2/app/data/trips_data/timeseries_o.csv\", sep=',',index_col=0, parse_dates=True)\n",
    "# Period_Nn = Period_Nn.loc['2020-06-21':'2020-07-31 23:00:00']\n",
    "# columnas_o = [columna for columna in Period_Nn.columns if columna.startswith('2807905')]\n",
    "# Period_Nn = Period_Nn[columnas_o]\n",
    "# Period_Nn.tail(25)"
   ]
  },
  {
   "cell_type": "markdown",
   "id": "11aa2277",
   "metadata": {},
   "source": [
    "# chamartin_o para el periodo de nueva normalidad: 21 Jun - 31 Jul 2020"
   ]
  },
  {
   "cell_type": "code",
   "execution_count": 3,
   "id": "432ddb97",
   "metadata": {},
   "outputs": [],
   "source": [
    "Period_Nn = pd.read_csv(\"/home/jonathan/tesis/3er_avance/Trayectos_Periodo_Confinamiento2.csv\", sep=',',index_col=0, parse_dates=True)\n",
    "Period_Nn = Period_Nn.set_index('ds')\n",
    "Period_Nn = Period_Nn.loc['2020-06-21':'2020-07-31 23:00:00']\n",
    "columnas_o = [columna for columna in Period_Nn.columns if columna.startswith('2807905')]\n",
    "Period_Nn = Period_Nn[columnas_o]\n",
    "Period_Nn_2 = Period_Nn.copy()\n",
    "# Realizamos la suma del distrito origen chamartín\n",
    "Period_Nn['2807905'] = Period_Nn.loc[:, columnas_o].sum(axis=1)\n",
    "colum_sum = Period_Nn.loc[:, '2807905']\n",
    "index = Period_Nn.index\n",
    "chamartin_o = pd.DataFrame({'2807905': colum_sum})\n",
    "chamartin_o.index = index"
   ]
  },
  {
   "cell_type": "code",
   "execution_count": 4,
   "id": "a4d50f2a",
   "metadata": {},
   "outputs": [
    {
     "data": {
      "text/html": [
       "<div>\n",
       "<style scoped>\n",
       "    .dataframe tbody tr th:only-of-type {\n",
       "        vertical-align: middle;\n",
       "    }\n",
       "\n",
       "    .dataframe tbody tr th {\n",
       "        vertical-align: top;\n",
       "    }\n",
       "\n",
       "    .dataframe thead th {\n",
       "        text-align: right;\n",
       "    }\n",
       "</style>\n",
       "<table border=\"1\" class=\"dataframe\">\n",
       "  <thead>\n",
       "    <tr style=\"text-align: right;\">\n",
       "      <th></th>\n",
       "      <th>2807905</th>\n",
       "    </tr>\n",
       "    <tr>\n",
       "      <th>ds</th>\n",
       "      <th></th>\n",
       "    </tr>\n",
       "  </thead>\n",
       "  <tbody>\n",
       "    <tr>\n",
       "      <th>2020-07-31 19:00:00</th>\n",
       "      <td>10303.203</td>\n",
       "    </tr>\n",
       "    <tr>\n",
       "      <th>2020-07-31 20:00:00</th>\n",
       "      <td>10160.696</td>\n",
       "    </tr>\n",
       "    <tr>\n",
       "      <th>2020-07-31 21:00:00</th>\n",
       "      <td>8482.825</td>\n",
       "    </tr>\n",
       "    <tr>\n",
       "      <th>2020-07-31 22:00:00</th>\n",
       "      <td>6300.449</td>\n",
       "    </tr>\n",
       "    <tr>\n",
       "      <th>2020-07-31 23:00:00</th>\n",
       "      <td>3954.628</td>\n",
       "    </tr>\n",
       "  </tbody>\n",
       "</table>\n",
       "</div>"
      ],
      "text/plain": [
       "                       2807905\n",
       "ds                            \n",
       "2020-07-31 19:00:00  10303.203\n",
       "2020-07-31 20:00:00  10160.696\n",
       "2020-07-31 21:00:00   8482.825\n",
       "2020-07-31 22:00:00   6300.449\n",
       "2020-07-31 23:00:00   3954.628"
      ]
     },
     "execution_count": 4,
     "metadata": {},
     "output_type": "execute_result"
    }
   ],
   "source": [
    "chamartin_o.tail(5)"
   ]
  },
  {
   "cell_type": "markdown",
   "id": "2924a2e4",
   "metadata": {},
   "source": [
    "# Estimación de las entradas a la estación Chamartín a partir de las predicciones del trayecto \"Chamartín-Centro\""
   ]
  },
  {
   "cell_type": "markdown",
   "id": "34424e60",
   "metadata": {},
   "source": [
    "## Read - Archivos con las predicciones obtenidas"
   ]
  },
  {
   "cell_type": "code",
   "execution_count": 5,
   "id": "45dfb962",
   "metadata": {},
   "outputs": [],
   "source": [
    "predictions1_0_5 = pd.read_csv(\"/home/jonathan/tesis/10mo_avance/Evaluación/predictions1_0_5.csv\", sep=',',index_col=0, parse_dates=True)\n",
    "predictions2_0_5 = pd.read_csv(\"/home/jonathan/tesis/10mo_avance/Evaluación/predictions2_0_5.csv\", sep=',',index_col=0, parse_dates=True)\n",
    "predictions1_6_11 = pd.read_csv(\"/home/jonathan/tesis/10mo_avance/Evaluación/predictions1_6_11.csv\", sep=',',index_col=0, parse_dates=True)\n",
    "predictions2_6_11 = pd.read_csv(\"/home/jonathan/tesis/10mo_avance/Evaluación/predictions2_6_11.csv\", sep=',',index_col=0, parse_dates=True)\n",
    "predictions1_12_17 = pd.read_csv(\"/home/jonathan/tesis/10mo_avance/Evaluación/predictions1_12_17.csv\", sep=',',index_col=0, parse_dates=True)\n",
    "predictions2_12_17 = pd.read_csv(\"/home/jonathan/tesis/10mo_avance/Evaluación/predictions2_12_17.csv\", sep=',',index_col=0, parse_dates=True)\n",
    "predictions1_18_23 = pd.read_csv(\"/home/jonathan/tesis/10mo_avance/Evaluación/predictions1_18_23.csv\", sep=',',index_col=0, parse_dates=True)\n",
    "predictions2_18_23 = pd.read_csv(\"/home/jonathan/tesis/10mo_avance/Evaluación/predictions2_18_23.csv\", sep=',',index_col=0, parse_dates=True)\n",
    "\n",
    "predictions1 = pd.concat([predictions1_0_5, predictions1_6_11, predictions1_12_17, predictions1_18_23])\n",
    "predictions2 = pd.concat([predictions2_0_5, predictions2_6_11, predictions2_12_17, predictions2_18_23])"
   ]
  },
  {
   "cell_type": "markdown",
   "id": "f6c3dc3d",
   "metadata": {},
   "source": [
    "## Añadimos las predicciones en el df \"Period_Nn_2\" para obtener el df chamartin_op"
   ]
  },
  {
   "cell_type": "code",
   "execution_count": 6,
   "id": "c0d9e57e",
   "metadata": {},
   "outputs": [],
   "source": [
    "valores_reemplazo_20jul = predictions1.loc['2020-07-20', 'yhat'].to_dict()\n",
    "valores_reemplazo_27jul = predictions2.loc['2020-07-27', 'yhat'].to_dict()\n",
    "\n",
    "# Reemplaza los registros específicos en la columna '2807905-2807901'\n",
    "for fecha_hora, valor in valores_reemplazo_20jul.items():\n",
    "    fecha = fecha_hora.date()\n",
    "    hora = fecha_hora.time().strftime('%H:%M:%S')       \n",
    "    Period_Nn_2.loc[f'{fecha} {hora}', '2807905-2807901'] = valor\n",
    "    \n",
    "for fecha_hora, valor in valores_reemplazo_27jul.items():\n",
    "    fecha = fecha_hora.date()\n",
    "    hora = fecha_hora.time().strftime('%H:%M:%S')       \n",
    "    Period_Nn_2.loc[f'{fecha} {hora}', '2807905-2807901'] = valor"
   ]
  },
  {
   "cell_type": "code",
   "execution_count": 7,
   "id": "2c5bef77",
   "metadata": {},
   "outputs": [],
   "source": [
    "columnas_o = [columna for columna in Period_Nn_2.columns if columna.startswith('2807905')]\n",
    "Period_Nn_2['2807905'] = Period_Nn_2.loc[:, columnas_o].sum(axis=1)\n",
    "colum_sum = Period_Nn_2.loc[:, '2807905']\n",
    "index = Period_Nn_2.index\n",
    "chamartin_op = pd.DataFrame({'2807905': colum_sum})\n",
    "chamartin_op.index = index"
   ]
  },
  {
   "cell_type": "code",
   "execution_count": 14,
   "id": "5d5ab0cb",
   "metadata": {},
   "outputs": [],
   "source": [
    "# Verificamos que se hayan reemplazado los registros por las prediccones\n",
    "# print(chamartin_o.loc['2020-07-19 23:00:00':'2020-07-20 01:00:00'])\n",
    "# print(chamartin_op.loc['2020-07-19 23:00:00':'2020-07-20 01:00:00'])\n",
    "# print(chamartin_o.loc['2020-07-26 23:00:00':'2020-07-27 01:00:00'])\n",
    "# print(chamartin_op.loc['2020-07-26 23:00:00':'2020-07-27 01:00:00'])"
   ]
  }
 ],
 "metadata": {
  "kernelspec": {
   "display_name": "Python 3 (ipykernel)",
   "language": "python",
   "name": "python3"
  },
  "language_info": {
   "codemirror_mode": {
    "name": "ipython",
    "version": 3
   },
   "file_extension": ".py",
   "mimetype": "text/x-python",
   "name": "python",
   "nbconvert_exporter": "python",
   "pygments_lexer": "ipython3",
   "version": "3.9.7"
  }
 },
 "nbformat": 4,
 "nbformat_minor": 5
}

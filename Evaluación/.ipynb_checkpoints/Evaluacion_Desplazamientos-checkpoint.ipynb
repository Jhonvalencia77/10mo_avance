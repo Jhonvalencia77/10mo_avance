{
 "cells": [
  {
   "cell_type": "markdown",
   "id": "ca5b4c9a",
   "metadata": {},
   "source": [
    "# De esta forma hay que inyectar datos, con los dfFinal se van inyectando datos por hora o por franja, simulando la inyección o el calculo de datos. "
   ]
  },
  {
   "cell_type": "code",
   "execution_count": 1,
   "id": "1dd62b8f",
   "metadata": {},
   "outputs": [],
   "source": [
    "import numpy as np\n",
    "import seaborn as sb\n",
    "import pandas as pd\n",
    "import matplotlib.pyplot as plt\n",
    "from prophet.serialize import model_to_json, model_from_json\n",
    "import pickle"
   ]
  },
  {
   "cell_type": "markdown",
   "id": "01f33d9e",
   "metadata": {},
   "source": [
    "# Read - df_Final de cada modelo horario"
   ]
  },
  {
   "cell_type": "code",
   "execution_count": 2,
   "id": "8599dfe9",
   "metadata": {},
   "outputs": [],
   "source": [
    "dfFinal0_5 = pd.read_csv(\"/home/jonathan/tesis/10mo_avance/Evaluación/df_Final_Lun0_5.csv\", sep=',',index_col=0, parse_dates=True)\n",
    "dfFinal6_11 = pd.read_csv(\"/home/jonathan/tesis/10mo_avance/Evaluación/df_Final_Lun6_11.csv\", sep=',',index_col=0, parse_dates=True)\n",
    "dfFinal12_17 = pd.read_csv(\"/home/jonathan/tesis/10mo_avance/Evaluación/df_Final_Lun12_17.csv\", sep=',',index_col=0, parse_dates=True)\n",
    "dfFinal18_23 = pd.read_csv(\"/home/jonathan/tesis/10mo_avance/Evaluación/df_Final_Lun18_23.csv\", sep=',',index_col=0, parse_dates=True)"
   ]
  },
  {
   "cell_type": "code",
   "execution_count": 5,
   "id": "1989b21a",
   "metadata": {},
   "outputs": [
    {
     "data": {
      "text/html": [
       "<div>\n",
       "<style scoped>\n",
       "    .dataframe tbody tr th:only-of-type {\n",
       "        vertical-align: middle;\n",
       "    }\n",
       "\n",
       "    .dataframe tbody tr th {\n",
       "        vertical-align: top;\n",
       "    }\n",
       "\n",
       "    .dataframe thead th {\n",
       "        text-align: right;\n",
       "    }\n",
       "</style>\n",
       "<table border=\"1\" class=\"dataframe\">\n",
       "  <thead>\n",
       "    <tr style=\"text-align: right;\">\n",
       "      <th></th>\n",
       "      <th>y</th>\n",
       "      <th>Lunes0_5</th>\n",
       "      <th>t-168Mod</th>\n",
       "      <th>Accup</th>\n",
       "    </tr>\n",
       "    <tr>\n",
       "      <th>ds</th>\n",
       "      <th></th>\n",
       "      <th></th>\n",
       "      <th></th>\n",
       "      <th></th>\n",
       "    </tr>\n",
       "  </thead>\n",
       "  <tbody>\n",
       "    <tr>\n",
       "      <th>2020-07-27 01:00:00</th>\n",
       "      <td>87.409</td>\n",
       "      <td>True</td>\n",
       "      <td>104.195</td>\n",
       "      <td>True</td>\n",
       "    </tr>\n",
       "    <tr>\n",
       "      <th>2020-07-27 02:00:00</th>\n",
       "      <td>34.927</td>\n",
       "      <td>True</td>\n",
       "      <td>35.480</td>\n",
       "      <td>False</td>\n",
       "    </tr>\n",
       "    <tr>\n",
       "      <th>2020-07-27 03:00:00</th>\n",
       "      <td>51.783</td>\n",
       "      <td>True</td>\n",
       "      <td>52.627</td>\n",
       "      <td>False</td>\n",
       "    </tr>\n",
       "    <tr>\n",
       "      <th>2020-07-27 04:00:00</th>\n",
       "      <td>47.236</td>\n",
       "      <td>True</td>\n",
       "      <td>64.707</td>\n",
       "      <td>False</td>\n",
       "    </tr>\n",
       "    <tr>\n",
       "      <th>2020-07-27 05:00:00</th>\n",
       "      <td>87.062</td>\n",
       "      <td>True</td>\n",
       "      <td>124.955</td>\n",
       "      <td>True</td>\n",
       "    </tr>\n",
       "  </tbody>\n",
       "</table>\n",
       "</div>"
      ],
      "text/plain": [
       "                          y  Lunes0_5  t-168Mod  Accup\n",
       "ds                                                    \n",
       "2020-07-27 01:00:00  87.409      True   104.195   True\n",
       "2020-07-27 02:00:00  34.927      True    35.480  False\n",
       "2020-07-27 03:00:00  51.783      True    52.627  False\n",
       "2020-07-27 04:00:00  47.236      True    64.707  False\n",
       "2020-07-27 05:00:00  87.062      True   124.955   True"
      ]
     },
     "execution_count": 5,
     "metadata": {},
     "output_type": "execute_result"
    }
   ],
   "source": [
    "dfFinal0_5.tail(5)"
   ]
  },
  {
   "cell_type": "markdown",
   "id": "03ce8895",
   "metadata": {},
   "source": [
    "# Evaluación modelo 0-5\n",
    "## Open - archivo json que contiene el modelo entrenado hasta 19-07-2020  23:00"
   ]
  },
  {
   "cell_type": "code",
   "execution_count": 3,
   "id": "40ea1e78",
   "metadata": {},
   "outputs": [
    {
     "name": "stderr",
     "output_type": "stream",
     "text": [
      "/home/jonathan/anaconda3/lib/python3.9/site-packages/prophet/serialize.py:136: FutureWarning: The behavior of Timestamp.utcfromtimestamp is deprecated, in a future version will return a timezone-aware Timestamp with UTC timezone. To keep the old behavior, use Timestamp.utcfromtimestamp(ts).tz_localize(None). To get the future behavior, use Timestamp.fromtimestamp(ts, 'UTC')\n",
      "  setattr(model, attribute, pd.Timestamp.utcfromtimestamp(attr_dict[attribute]))\n"
     ]
    }
   ],
   "source": [
    "with open('/home/jonathan/tesis/10mo_avance/models/serialized_model_Lunes0_5.json', 'r') as fin:\n",
    "    m = model_from_json(fin.read())  # Load model"
   ]
  },
  {
   "cell_type": "markdown",
   "id": "72531039",
   "metadata": {},
   "source": [
    "## Creamos funciones para inyectar datos al dataframe future"
   ]
  },
  {
   "cell_type": "code",
   "execution_count": 4,
   "id": "533058c0",
   "metadata": {},
   "outputs": [
    {
     "ename": "NameError",
     "evalue": "name 'PeriodoNnormalidad1' is not defined",
     "output_type": "error",
     "traceback": [
      "\u001b[0;31m---------------------------------------------------------------------------\u001b[0m",
      "\u001b[0;31mNameError\u001b[0m                                 Traceback (most recent call last)",
      "\u001b[0;32m/tmp/ipykernel_5033/3799864378.py\u001b[0m in \u001b[0;36m<module>\u001b[0;34m\u001b[0m\n\u001b[1;32m    130\u001b[0m \u001b[0;34m\u001b[0m\u001b[0m\n\u001b[1;32m    131\u001b[0m \u001b[0mfila\u001b[0m \u001b[0;34m=\u001b[0m \u001b[0;36m0\u001b[0m\u001b[0;34m\u001b[0m\u001b[0;34m\u001b[0m\u001b[0m\n\u001b[0;32m--> 132\u001b[0;31m \u001b[0mPeriodoNnormalidad1\u001b[0m\u001b[0;34m[\u001b[0m\u001b[0;34m'Lunes0_5'\u001b[0m\u001b[0;34m]\u001b[0m \u001b[0;34m=\u001b[0m \u001b[0mPeriodoNnormalidad1\u001b[0m\u001b[0;34m[\u001b[0m\u001b[0;34m'ds'\u001b[0m\u001b[0;34m]\u001b[0m\u001b[0;34m.\u001b[0m\u001b[0mapply\u001b[0m\u001b[0;34m(\u001b[0m\u001b[0mest_Lunes0_5\u001b[0m\u001b[0;34m)\u001b[0m\u001b[0;34m\u001b[0m\u001b[0;34m\u001b[0m\u001b[0m\n\u001b[0m\u001b[1;32m    133\u001b[0m \u001b[0mfila\u001b[0m \u001b[0;34m=\u001b[0m \u001b[0;36m0\u001b[0m\u001b[0;34m\u001b[0m\u001b[0;34m\u001b[0m\u001b[0m\n\u001b[1;32m    134\u001b[0m \u001b[0mPeriodoNnormalidad1\u001b[0m\u001b[0;34m[\u001b[0m\u001b[0;34m'Y_Mod'\u001b[0m\u001b[0;34m]\u001b[0m \u001b[0;34m=\u001b[0m \u001b[0mPeriodoNnormalidad1\u001b[0m\u001b[0;34m[\u001b[0m\u001b[0;34m'ds'\u001b[0m\u001b[0;34m]\u001b[0m\u001b[0;34m.\u001b[0m\u001b[0mapply\u001b[0m\u001b[0;34m(\u001b[0m\u001b[0mRegressor_YMod\u001b[0m\u001b[0;34m)\u001b[0m\u001b[0;34m\u001b[0m\u001b[0;34m\u001b[0m\u001b[0m\n",
      "\u001b[0;31mNameError\u001b[0m: name 'PeriodoNnormalidad1' is not defined"
     ]
    }
   ],
   "source": [
    "def est_Lunes0_5(ds):\n",
    "    global fila    \n",
    "    global valor \n",
    "    date = pd.to_datetime(ds)\n",
    "    if (date.dayofweek == 0 and date.hour == 0) or (date.dayofweek == 0 and date.hour == 1) or (date.dayofweek == 0 and date.hour == 2) or (date.dayofweek == 0 and date.hour == 3) or (date.dayofweek == 0 and date.hour == 4) or (date.dayofweek == 0 and date.hour == 5):\n",
    "        Acc1 = PeriodoNnormalidad1.loc[fila]   \n",
    "        Acc1 = Acc1['Accidente1']\n",
    "        Acc2 = PeriodoNnormalidad1.loc[fila]   \n",
    "        Acc2 = Acc2['Accidente2']\n",
    "        if (Acc1 == True) or (Acc2 == True):\n",
    "            valor = True\n",
    "        else:\n",
    "            valor = True        \n",
    "        fila += 1\n",
    "    else:\n",
    "        valor = False        \n",
    "        fila += 1\n",
    "    return (valor)\n",
    "\n",
    "#Copiamos los valores de la columna de estacionalidad para el df future\n",
    "def estfuture_Lunes0_5(ds,i):\n",
    "    global fila\n",
    "    global fila2    \n",
    "    global valor\n",
    "    date = pd.to_datetime(ds)\n",
    "    fechaTest = globals()[f\"test_data_N{i}\"].ds.loc[fila]\n",
    "    if (date.year == fechaTest.year) and (date.month == fechaTest.month) and (date.day == fechaTest.day) and (date.hour == fechaTest.hour):\n",
    "        valor = globals()[f\"test_data_N{i}\"].loc[fila]\n",
    "        valor = valor['Lunes0_5']\n",
    "        if fila < 9:\n",
    "            fila += 1\n",
    "    else:\n",
    "        valor = globals()[f\"train_data_N{i}\"].loc[fila2]\n",
    "        valor = valor['Lunes0_5']        \n",
    "        fila2 += 1  \n",
    "    return (valor)\n",
    "\n",
    "def Regressor_Accdown(Acc1):\n",
    "    global fila    \n",
    "    global valor         \n",
    "    consulta = PeriodoNnormalidad1.loc[fila]    \n",
    "    Acc2 = consulta['Accidente2']\n",
    "    if (Acc1 == True) & (Acc2 == True):        \n",
    "        valor = False    \n",
    "    else:        \n",
    "        valor = Acc1\n",
    "    fila += 1   \n",
    "    return (valor)\n",
    "\n",
    "def Regressor_Accup(Acc2):\n",
    "    global fila    \n",
    "    global valor         \n",
    "    consulta = PeriodoNnormalidad1.loc[fila]    \n",
    "    Acc1 = consulta['Accidente1']\n",
    "    if (Acc1 == True) & (Acc2 == True):        \n",
    "        valor = False    \n",
    "    else:        \n",
    "        valor = Acc2\n",
    "    fila += 1   \n",
    "    return (valor)\n",
    "\n",
    "def Regressor_FutureAccDown(ds,i):\n",
    "    global fila\n",
    "    global fila2    \n",
    "    global valor    \n",
    "    date = pd.to_datetime(ds)\n",
    "    fechaTest = globals()[f\"test_data_N{i}\"].ds.loc[fila]\n",
    "    if (date.month == fechaTest.month) and (date.day == fechaTest.day) and (date.year == fechaTest.year) and (date.hour == fechaTest.hour):\n",
    "        valor = globals()[f\"test_data_N{i}\"].loc[fila]\n",
    "        valor = valor['Accdown']\n",
    "        fila += 1\n",
    "    else:\n",
    "        valor = globals()[f\"train_data_N{i}\"].loc[fila2]\n",
    "        valor = valor['Accdown']                \n",
    "        fila2 += 1    \n",
    "    return (valor)\n",
    "\n",
    "def Regressor_FutureAccUp(ds,i):\n",
    "    global fila\n",
    "    global fila2    \n",
    "    global valor    \n",
    "    date = pd.to_datetime(ds)\n",
    "    fechaTest = globals()[f\"test_data_N{i}\"].ds.loc[fila]\n",
    "    if (date.month == fechaTest.month) and (date.day == fechaTest.day) and (date.year == fechaTest.year) and (date.hour == fechaTest.hour):\n",
    "        valor = globals()[f\"test_data_N{i}\"].loc[fila]\n",
    "        valor = valor['Accup']\n",
    "        fila += 1\n",
    "    else:\n",
    "        valor = globals()[f\"train_data_N{i}\"].loc[fila2]\n",
    "        valor = valor['Accup']                \n",
    "        fila2 += 1    \n",
    "    return (valor)\n",
    "\n",
    "def Regressor_LunesBack(ds,i):\n",
    "    global fila\n",
    "    global fila2    \n",
    "    global valor\n",
    "    date = pd.to_datetime(ds)\n",
    "    fechaTest = globals()[f\"test_data_N{i}\"].ds.loc[fila]\n",
    "    if (date.month == fechaTest.month) and (date.day == fechaTest.day) and (date.year == fechaTest.year) and (date.hour == fechaTest.hour):\n",
    "        valor= globals()[f\"test_data_N{i}\"].loc[fila]        \n",
    "        valor = valor['t-168Mod']        \n",
    "        fila += 1\n",
    "    else:\n",
    "        valor = globals()[f\"train_data_N{i}\"].loc[fila2]\n",
    "        valor = valor['t-168Mod']        \n",
    "        fila2 += 1  \n",
    "    return (valor)\n",
    "\n",
    "def Regressor_YMod(ds):\n",
    "    global fila    \n",
    "    global valor     \n",
    "    date = pd.to_datetime(ds)\n",
    "    consulta = PeriodoNnormalidad1.loc[fila]\n",
    "    Acc1 = consulta['Accidente1']\n",
    "    Acc2 = consulta['Accidente2']\n",
    "    if (Acc1 == True) & (Acc2 == False):        \n",
    "        valor = consulta['y']*1.25\n",
    "    elif (Acc1 == False) & (Acc2 == True):        \n",
    "        valor = consulta['y']*0.7\n",
    "    elif (Acc1 == True) & (Acc2 == True):        \n",
    "        valor = consulta['y']\n",
    "    elif (Acc1 == False) & (Acc2 == False):        \n",
    "        valor = consulta['y']\n",
    "    else:        \n",
    "        valor = consulta['y']\n",
    "    fila += 1\n",
    "    return(valor)\n",
    "    \n",
    "\n",
    "# fila = 0\n",
    "# PeriodoNnormalidad1['Lunes0_5'] = PeriodoNnormalidad1['ds'].apply(est_Lunes0_5)\n",
    "# fila = 0\n",
    "# PeriodoNnormalidad1['Y_Mod'] = PeriodoNnormalidad1['ds'].apply(Regressor_YMod)\n",
    "# fila = 0\n",
    "# PeriodoNnormalidad1['Accdown'] = PeriodoNnormalidad1['Accidente1'].apply(Regressor_Accdown)\n",
    "# fila = 0\n",
    "# PeriodoNnormalidad1['Accup'] = PeriodoNnormalidad1['Accidente2'].apply(Regressor_Accup)"
   ]
  },
  {
   "cell_type": "code",
   "execution_count": null,
   "id": "3bb30483",
   "metadata": {},
   "outputs": [],
   "source": [
    "future = m.make_future_dataframe(periods=6, freq='H')\n",
    "future.tail(10)"
   ]
  },
  {
   "cell_type": "code",
   "execution_count": null,
   "id": "2c9be0f0",
   "metadata": {},
   "outputs": [],
   "source": []
  },
  {
   "cell_type": "code",
   "execution_count": null,
   "id": "15fa99d8",
   "metadata": {},
   "outputs": [],
   "source": [
    "forecast = m.predict(future)"
   ]
  },
  {
   "cell_type": "markdown",
   "id": "08cafaad",
   "metadata": {},
   "source": [
    "# Nota: Se debe de simular la inyección de datos con las funciones que actualizan el el df future.\n",
    "## Se debe de hacer una predicción, esa predicción aporta al df \"timeseries_o_MOD\", finalmente se calcula el número de entradas en la estación chamartín. \n",
    "\n",
    "## Se debe de hacer lo mismo con rolling forecasting pero ahora se calcula las entradas."
   ]
  }
 ],
 "metadata": {
  "kernelspec": {
   "display_name": "Python 3 (ipykernel)",
   "language": "python",
   "name": "python3"
  },
  "language_info": {
   "codemirror_mode": {
    "name": "ipython",
    "version": 3
   },
   "file_extension": ".py",
   "mimetype": "text/x-python",
   "name": "python",
   "nbconvert_exporter": "python",
   "pygments_lexer": "ipython3",
   "version": "3.9.7"
  }
 },
 "nbformat": 4,
 "nbformat_minor": 5
}

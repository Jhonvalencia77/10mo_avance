{
 "cells": [
  {
   "cell_type": "code",
   "execution_count": null,
   "id": "c677dad8",
   "metadata": {},
   "outputs": [],
   "source": [
    "import numpy as np\n",
    "import seaborn as sb\n",
    "import pandas as pd\n",
    "import matplotlib.pyplot as plt\n",
    "from prophet.serialize import model_to_json, model_from_json"
   ]
  },
  {
   "cell_type": "markdown",
   "id": "b9ab7112",
   "metadata": {},
   "source": [
    "### En este notebook se debe de utilizar los archivos data_loader y processor para realizar la comparación y la estimación del número de entradas a la estación chamartín. "
   ]
  }
 ],
 "metadata": {
  "kernelspec": {
   "display_name": "Python 3 (ipykernel)",
   "language": "python",
   "name": "python3"
  },
  "language_info": {
   "codemirror_mode": {
    "name": "ipython",
    "version": 3
   },
   "file_extension": ".py",
   "mimetype": "text/x-python",
   "name": "python",
   "nbconvert_exporter": "python",
   "pygments_lexer": "ipython3",
   "version": "3.9.7"
  }
 },
 "nbformat": 4,
 "nbformat_minor": 5
}

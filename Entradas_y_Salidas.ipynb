{
 "cells": [
  {
   "cell_type": "code",
   "execution_count": 1,
   "id": "340e4b04",
   "metadata": {},
   "outputs": [],
   "source": [
    "from pandas import DataFrame\n",
    "import pandas as pd"
   ]
  },
  {
   "cell_type": "code",
   "execution_count": 3,
   "id": "f4410450",
   "metadata": {},
   "outputs": [],
   "source": [
    "df1 = pd.read_csv(\"/home/jonathan/tesis/10mo_avance/data/timeseries_o.csv\", sep=',',index_col=0, parse_dates=True)"
   ]
  },
  {
   "cell_type": "code",
   "execution_count": 11,
   "id": "bbeeaeec",
   "metadata": {},
   "outputs": [],
   "source": [
    "# df1.tail()"
   ]
  },
  {
   "cell_type": "code",
   "execution_count": 4,
   "id": "fb91ede3",
   "metadata": {},
   "outputs": [
    {
     "ename": "NameError",
     "evalue": "name 'PassengersDataLoader' is not defined",
     "output_type": "error",
     "traceback": [
      "\u001b[0;31m---------------------------------------------------------------------------\u001b[0m",
      "\u001b[0;31mNameError\u001b[0m                                 Traceback (most recent call last)",
      "\u001b[0;32m/tmp/ipykernel_4684/3336812970.py\u001b[0m in \u001b[0;36m<module>\u001b[0;34m\u001b[0m\n\u001b[0;32m----> 1\u001b[0;31m \u001b[0;32mclass\u001b[0m \u001b[0mRouteTrip\u001b[0m\u001b[0;34m:\u001b[0m \u001b[0;31m# Mi Clase\u001b[0m\u001b[0;34m\u001b[0m\u001b[0;34m\u001b[0m\u001b[0m\n\u001b[0m\u001b[1;32m      2\u001b[0m     \u001b[0m__COEF_BASENAME\u001b[0m \u001b[0;34m=\u001b[0m \u001b[0mPassengersDataLoader\u001b[0m\u001b[0;34m.\u001b[0m\u001b[0mBASEPATH\u001b[0m \u001b[0;34m+\u001b[0m \u001b[0;34m\"%s_coef.csv\"\u001b[0m \u001b[0;31m#data/pt_data/%s_coef.csv\u001b[0m\u001b[0;34m\u001b[0m\u001b[0;34m\u001b[0m\u001b[0m\n\u001b[1;32m      3\u001b[0m \u001b[0;34m\u001b[0m\u001b[0m\n\u001b[1;32m      4\u001b[0m     \u001b[0;32mdef\u001b[0m \u001b[0m__init__\u001b[0m\u001b[0;34m(\u001b[0m\u001b[0mself\u001b[0m\u001b[0;34m,\u001b[0m\u001b[0mtripsloader\u001b[0m\u001b[0;34m,\u001b[0m\u001b[0mptdata\u001b[0m\u001b[0;34m)\u001b[0m\u001b[0;34m:\u001b[0m \u001b[0;31m#Mi constructor - construye un nuevo objeto, self parametro obligatorio\u001b[0m\u001b[0;34m\u001b[0m\u001b[0;34m\u001b[0m\u001b[0m\n\u001b[1;32m      5\u001b[0m         \u001b[0mself\u001b[0m\u001b[0;34m.\u001b[0m\u001b[0mtripsLoader\u001b[0m \u001b[0;34m=\u001b[0m \u001b[0mtripsloader\u001b[0m  \u001b[0;31m#propiedad del objeto que recibe el parámetro tripsloader\u001b[0m\u001b[0;34m\u001b[0m\u001b[0;34m\u001b[0m\u001b[0m\n",
      "\u001b[0;32m/tmp/ipykernel_4684/3336812970.py\u001b[0m in \u001b[0;36mRouteTrip\u001b[0;34m()\u001b[0m\n\u001b[1;32m      1\u001b[0m \u001b[0;32mclass\u001b[0m \u001b[0mRouteTrip\u001b[0m\u001b[0;34m:\u001b[0m \u001b[0;31m# Mi Clase\u001b[0m\u001b[0;34m\u001b[0m\u001b[0;34m\u001b[0m\u001b[0m\n\u001b[0;32m----> 2\u001b[0;31m     \u001b[0m__COEF_BASENAME\u001b[0m \u001b[0;34m=\u001b[0m \u001b[0mPassengersDataLoader\u001b[0m\u001b[0;34m.\u001b[0m\u001b[0mBASEPATH\u001b[0m \u001b[0;34m+\u001b[0m \u001b[0;34m\"%s_coef.csv\"\u001b[0m \u001b[0;31m#data/pt_data/%s_coef.csv\u001b[0m\u001b[0;34m\u001b[0m\u001b[0;34m\u001b[0m\u001b[0m\n\u001b[0m\u001b[1;32m      3\u001b[0m \u001b[0;34m\u001b[0m\u001b[0m\n\u001b[1;32m      4\u001b[0m     \u001b[0;32mdef\u001b[0m \u001b[0m__init__\u001b[0m\u001b[0;34m(\u001b[0m\u001b[0mself\u001b[0m\u001b[0;34m,\u001b[0m\u001b[0mtripsloader\u001b[0m\u001b[0;34m,\u001b[0m\u001b[0mptdata\u001b[0m\u001b[0;34m)\u001b[0m\u001b[0;34m:\u001b[0m \u001b[0;31m#Mi constructor - construye un nuevo objeto, self parametro obligatorio\u001b[0m\u001b[0;34m\u001b[0m\u001b[0;34m\u001b[0m\u001b[0m\n\u001b[1;32m      5\u001b[0m         \u001b[0mself\u001b[0m\u001b[0;34m.\u001b[0m\u001b[0mtripsLoader\u001b[0m \u001b[0;34m=\u001b[0m \u001b[0mtripsloader\u001b[0m  \u001b[0;31m#propiedad del objeto que recibe el parámetro tripsloader\u001b[0m\u001b[0;34m\u001b[0m\u001b[0;34m\u001b[0m\u001b[0m\n",
      "\u001b[0;31mNameError\u001b[0m: name 'PassengersDataLoader' is not defined"
     ]
    }
   ],
   "source": [
    "class RouteTrip: # Mi Clase\n",
    "    __COEF_BASENAME = PassengersDataLoader.BASEPATH + \"%s_coef.csv\" #data/pt_data/%s_coef.csv\n",
    "\n",
    "    def __init__(self,tripsloader,ptdata): #Mi constructor - construye un nuevo objeto, self parametro obligatorio\n",
    "        self.tripsLoader = tripsloader  #propiedad del objeto que recibe el parámetro tripsloader\n",
    "        self.ptdata = ptdata #propiedad del objeto para elegir el archivo con la clase PassengersDataLoader\n",
    "\n",
    "        self.routes = tripsloader.routesLoader.routes.set_index(\"stop_id\") # routesloader es la clase, routes es la propiedad del objetos\n",
    "\n",
    "        self.emtproperties = self.compute_emt_lines_properties() #propiedad del objeto"
   ]
  },
  {
   "cell_type": "code",
   "execution_count": null,
   "id": "56fe3019",
   "metadata": {},
   "outputs": [],
   "source": [
    "#linea 604 del archivo processor.py\n",
    "#tripsloader = TripsLoader(verbose = True)\n",
    "\n",
    "#linea 6 del archivo data_loader.py\n",
    "# class TripsLoader:\n",
    "#     BASEPATH = \"data/trips_data/\"\n",
    "#     ORIGIN_FILENAME = \"timeseries_o.csv\"\n",
    "#     DEST_FILENAME = \"timeseries_d.csv\"\n",
    "\n",
    "#linea 605 del archivo processor.py\n",
    "# ptdata = PassengersDataLoader()\n",
    "\n",
    "#linea 84 del archivo data_loader.py\n",
    "# class PassengersDataLoader:\n",
    "#     BASEPATH = \"data/pt_data/\"\n",
    "#     RENFE_MONTHLY_DATA_PATH = BASEPATH + \"renfe_monthly_data.csv\"\n",
    "#     RENFE_USERS_BYSTOP = BASEPATH + \"up_down_bystop.csv\"\n",
    "#     RENFE_LINEFREQ_FILENAME = BASEPATH + 'renfe_line_freq.csv'\n",
    "#     METRO_LINEFREQ_FILENAME = BASEPATH + 'metro_line_freq.csv'\n",
    "#     METRO_DAILY_DATA = BASEPATH + 'metro_daily_data.csv'\n",
    "#     METRO_USERS_BYSTOP = BASEPATH + 'metro_up_down_bystop.csv'\n",
    "#     EMT_COEF = BASEPATH + 'emt_coef.csv'\n",
    "#     EMT_MONTHLY_DATA = BASEPATH + 'emt_monthly_data.csv'\n",
    "#     EMT_LINEFREQ_FILENAME = BASEPATH + 'emt_line_freq.csv'\n",
    "\n",
    "#linea 196 del archivo data_loader.py\n",
    "# class RoutesLoader:\n",
    "#     BASEPATH = \"data/routes/\"\n",
    "#     ROUTES_FILENAME = \"routes.csv\""
   ]
  },
  {
   "cell_type": "code",
   "execution_count": null,
   "id": "ada60c13",
   "metadata": {},
   "outputs": [],
   "source": [
    "def get_users_renfe(self, timeseries_o,timeseries_d,max_precision = True):\n",
    "        # Es el df routes con index \"stops_id\" 241 filas y 7 columnas, es decir que está filtrado y la columna index es la 8va columna\n",
    "        # renfe_users_bystop contiene up_down_bystop.csv \n",
    "        renfe_stops = self.routes.loc[self.ptdata.renfe_users_bystop[self.ptdata.renfe_users_bystop.stop_id.notna()].stop_id]\n",
    "        renfe_stops = renfe_stops[~renfe_stops.index.duplicated(keep='first')]\n",
    "\n",
    "        subtimeseries_o = timeseries_o[renfe_stops.stop_district.unique()]\n",
    "        subtimeseries_o = subtimeseries_o.between_time(\"6:00\", \"0:00\")\n",
    "\n",
    "        subtimeseries_d = timeseries_d[renfe_stops.stop_district.unique()]\n",
    "        subtimeseries_d = subtimeseries_d.between_time(\"6:00\", \"0:00\")\n",
    "\n",
    "        Td = self.ptdata.renfe_monthly_data\n",
    "\n",
    "        up,down = self.compute_users_method1(renfe_stops,subtimeseries_o,subtimeseries_d,Td,'cercanias')\n",
    "        if max_precision:\n",
    "            up2,down2 = self.compute_users_method2(renfe_stops,subtimeseries_o,subtimeseries_d,self.ptdata.renfe_users_bystop,Td,'cercanias')\n",
    "            up = (up + up2)/2\n",
    "            down = (down + down2)/2\n",
    "\n",
    "        return up,down"
   ]
  },
  {
   "cell_type": "code",
   "execution_count": null,
   "id": "a1c28ac9",
   "metadata": {},
   "outputs": [],
   "source": [
    "def compute_users_method2(self,stops,subtimeseries_o,subtimeseries_d,usersbystop,Td,service):        \n",
    "        #service Apenas entrando en esta función service ya es \"cercanias\"\n",
    "        #subtimeseries_o,subtimeseries_d columns filtradas del df timeseries_o mediante los distritos presentes en \"routes\", cuidado que en routes se repiten los distritos, el index son las fechas\n",
    "        #Td es el df llamado \"0710200\", Daniel tiene los datos desde 2013 hasta junio 2021, index las fechas '2013-01'\n",
    "        beta = usersbystop # representa el df llamado \"up_down_bystop.csv\" creado por daniel mediante los GTFS, no tiene index\n",
    "        stops = stops[\"stop_district\"] #Selecciona la columna \"stop_district\" del df creado por daniel \"routes\", el index df stops es el que tiene esto: par_5_142 (stop_id)\n",
    "\n",
    "        beta = beta[beta.stop_id.notna()] # Descartamos los registros que no tengan stop_id del df usersbystop\n",
    "        beta.up = beta.up / beta.up.sum() #up es una columna, beta.up es un df de una columna antes y despues de normalizar \n",
    "        beta.down = beta.down / beta.down.sum() #down se una columna\n",
    "\n",
    "        up = pd.DataFrame({}) #Creamos df vacios\n",
    "        down = pd.DataFrame({})\n",
    "        if service == \"cercanias\": #Entra a la primera\n",
    "            for time_period in Td.index:\n",
    "                #subtimeseries_op es un df vacio cuando la condición booleana no se cumple\n",
    "                #subtimeseries_op en cada ciclo for obtiene los datos desplazamientos por mes (Ej: en un mes corresponde a feb otro mes a marzo junto con todos los distritos y desplazamientos(matriz)) \n",
    "                subtimeseries_op = subtimeseries_o[(subtimeseries_o.index.month == time_period.month) &\n",
    "                                                   (subtimeseries_o.index.year == time_period.year)]\n",
    "                subtimeseries_dp = subtimeseries_d[(subtimeseries_d.index.month == time_period.month) &\n",
    "                                                   (subtimeseries_d.index.year == time_period.year)]\n",
    "                # subtimeseries_o[subtimeseries_o.index.weekday >= 5] = subtimeseries_o[subtimeseries_o.index.weekday >= 5] * 0\n",
    "                alpha_o = subtimeseries_op / subtimeseries_op.sum() #Hallamos alpha\n",
    "                alpha_d = subtimeseries_dp / subtimeseries_dp.sum() #alpha corresponde a toda la matriz de distritos y desplazamientos normalizados, cada iteración alpha es un mes diferente\n",
    "\n",
    "                # subtimeseries_d[subtimeseries_d.index.weekday >= 5] = subtimeseries_d[subtimeseries_d.index.weekday >= 5] * 0\n",
    "\n",
    "                up_aux = pd.DataFrame({}, index=subtimeseries_op.index) #DataFrame up_aux tendrá el mismo índice que el DataFrame subtimeseries_op.\n",
    "                down_aux = pd.DataFrame({}, index=subtimeseries_dp.index)\n",
    "                for stop_id in beta.stop_id:\n",
    "\n",
    "                    up_aux[stop_id] = alpha_o[stops.loc[stop_id]] * Td.loc[time_period].iloc[0] * 1e6 * \\\n",
    "                                      beta[beta.stop_id == stop_id].up.iloc[0] \n",
    "                    #Estas son las formulas que calculan el número de pasajeros por estación\n",
    "                    down_aux[stop_id] = alpha_d[stops.loc[stop_id]] * Td.loc[time_period].iloc[0] * 1e6 * \\\n",
    "                                        beta[beta.stop_id == stop_id].down.iloc[0]\n",
    "                print(up_aux)  #df con los desplazamientos calculados por estación, cada iteración del ciclo corresponde a un df con un mes diferente\n",
    "                up = up.append(up_aux)\n",
    "                down = down.append(down_aux)\n",
    "            print(up) # Muestra todos los desplazamientos calculados por estación, cada columna es una estación\n",
    "\n",
    "        elif service == 'metro':\n",
    "            for time_period in Td.index:\n",
    "                subtimeseries_op = subtimeseries_o[subtimeseries_o.index.date == time_period.date()]\n",
    "                subtimeseries_dp = subtimeseries_d[subtimeseries_d.index.date == time_period.date()]\n",
    "\n",
    "                alpha_o = subtimeseries_op / subtimeseries_op.sum()\n",
    "                alpha_d = subtimeseries_dp / subtimeseries_dp.sum()\n",
    "\n",
    "                up_aux = pd.DataFrame({}, index=subtimeseries_op.index)\n",
    "                down_aux = pd.DataFrame({}, index=subtimeseries_dp.index)\n",
    "                for stop_id in beta.stop_id:\n",
    "                    up_aux[stop_id] = alpha_o[stops.loc[stop_id]] * Td.loc[time_period].iloc[0] * \\\n",
    "                                      beta[beta.stop_id == stop_id].up.iloc[0]\n",
    "                    down_aux[stop_id] = alpha_d[stops.loc[stop_id]] * Td.loc[time_period].iloc[0] * \\\n",
    "                                        beta[beta.stop_id == stop_id].down.iloc[0]\n",
    "                up = up.append(up_aux)\n",
    "                down = down.append(down_aux)\n",
    "\n",
    "        return up, down"
   ]
  }
 ],
 "metadata": {
  "kernelspec": {
   "display_name": "Python 3 (ipykernel)",
   "language": "python",
   "name": "python3"
  },
  "language_info": {
   "codemirror_mode": {
    "name": "ipython",
    "version": 3
   },
   "file_extension": ".py",
   "mimetype": "text/x-python",
   "name": "python",
   "nbconvert_exporter": "python",
   "pygments_lexer": "ipython3",
   "version": "3.9.7"
  }
 },
 "nbformat": 4,
 "nbformat_minor": 5
}
